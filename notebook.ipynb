{
 "cells": [
  {
   "cell_type": "markdown",
   "metadata": {},
   "source": [
    "### Import the relevant packages "
   ]
  },
  {
   "cell_type": "code",
   "execution_count": 12,
   "metadata": {},
   "outputs": [],
   "source": [
    "import numpy as np\n",
    "import glob\n",
    "import cv2"
   ]
  },
  {
   "cell_type": "markdown",
   "metadata": {},
   "source": [
    "### Reading the tumor images "
   ]
  },
  {
   "cell_type": "code",
   "execution_count": 13,
   "metadata": {},
   "outputs": [
    {
     "name": "stdout",
     "output_type": "stream",
     "text": [
      "Number of tumor images: 154\n"
     ]
    }
   ],
   "source": [
    "tumor = []\n",
    "path_to_tumor_images = glob.iglob('./data/brain_tumor_dataset/yes/*.jpg')\n",
    "\n",
    "for file in path_to_tumor_images:\n",
    "    img = cv2.imread(file)\n",
    "\n",
    "    # resizing the image\n",
    "    img = cv2.resize(img, (256, 256))\n",
    "\n",
    "    # reordering the color channels\n",
    "    b, g, r = cv2.split(img)\n",
    "    img = cv2.merge([r, g, b])\n",
    "\n",
    "    tumor.append(img)\n",
    "\n",
    "\n",
    "print(f'Number of tumor images: {len(tumor)}')"
   ]
  },
  {
   "cell_type": "markdown",
   "metadata": {},
   "source": [
    "### Reading the healthy images"
   ]
  },
  {
   "cell_type": "code",
   "execution_count": 14,
   "metadata": {},
   "outputs": [
    {
     "name": "stdout",
     "output_type": "stream",
     "text": [
      "Number of healthy images: 91\n"
     ]
    }
   ],
   "source": [
    "no_tumor = []\n",
    "path_to_no_tumor_images = glob.iglob('./data/brain_tumor_dataset/no/*.jpg')\n",
    "\n",
    "for file in path_to_no_tumor_images:\n",
    "    img = cv2.imread(file)\n",
    "\n",
    "    # resizing the image\n",
    "    img = cv2.resize(img, (256, 256))\n",
    "\n",
    "    # reordering the color channels\n",
    "    b, g, r = cv2.split(img)\n",
    "    img = cv2.merge([r, g, b])\n",
    "\n",
    "    no_tumor.append(img)\n",
    "\n",
    "\n",
    "print(f'Number of healthy images: {len(no_tumor)}')"
   ]
  },
  {
   "cell_type": "markdown",
   "metadata": {},
   "source": [
    "### Converting the lists of images to numpy arrays"
   ]
  },
  {
   "cell_type": "code",
   "execution_count": 15,
   "metadata": {},
   "outputs": [],
   "source": [
    "tumor = np.array(tumor)\n",
    "no_tumor = np.array(no_tumor)"
   ]
  },
  {
   "cell_type": "markdown",
   "metadata": {},
   "source": [
    "### Taking a look at the dimensions of the arrays"
   ]
  },
  {
   "cell_type": "code",
   "execution_count": 16,
   "metadata": {},
   "outputs": [
    {
     "name": "stdout",
     "output_type": "stream",
     "text": [
      "Shape of tumor images array: (154, 256, 256, 3)\n",
      "Number of images: 154\n",
      "Number of channels: 3 (RGB)\n",
      "Size of each channel: 256 x 256\n",
      "\n",
      "\n",
      "Shape of no tumor images array: (91, 256, 256, 3)\n",
      "Number of images: 91\n",
      "Number of channels: 3 (RGB)\n",
      "Size of each channel: 256 x 256\n"
     ]
    }
   ],
   "source": [
    "print(f\"Shape of tumor images array: {tumor.shape}\")\n",
    "print(f\"Number of images: {tumor.shape[0]}\")\n",
    "print(f\"Number of channels: {tumor.shape[3]} (RGB)\")\n",
    "print(f\"Size of each channel: {tumor.shape[1]} x {tumor.shape[2]}\")\n",
    "\n",
    "print(\"\\n\")\n",
    "\n",
    "print(f\"Shape of no tumor images array: {no_tumor.shape}\")\n",
    "print(f\"Number of images: {no_tumor.shape[0]}\")\n",
    "print(f\"Number of channels: {no_tumor.shape[3]} (RGB)\")\n",
    "print(f\"Size of each channel: {no_tumor.shape[1]} x {no_tumor.shape[2]}\")"
   ]
  }
 ],
 "metadata": {
  "kernelspec": {
   "display_name": "MRI",
   "language": "python",
   "name": "python3"
  },
  "language_info": {
   "codemirror_mode": {
    "name": "ipython",
    "version": 3
   },
   "file_extension": ".py",
   "mimetype": "text/x-python",
   "name": "python",
   "nbconvert_exporter": "python",
   "pygments_lexer": "ipython3",
   "version": "3.6.13"
  }
 },
 "nbformat": 4,
 "nbformat_minor": 2
}
